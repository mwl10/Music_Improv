{
 "cells": [
  {
   "cell_type": "code",
   "execution_count": 137,
   "id": "43502353",
   "metadata": {},
   "outputs": [],
   "source": [
    "import glob\n",
    "import numpy as np\n",
    "from music21 import converter, instrument, note, chord, stream\n",
    "from tensorflow.keras.models import Sequential\n",
    "from tensorflow.keras.layers import Dense\n",
    "from tensorflow.keras.layers import Dropout\n",
    "from tensorflow.keras.layers import LSTM\n",
    "from tensorflow.keras.layers import Activation\n",
    "from tensorflow.keras.layers import BatchNormalization as BatchNorm\n",
    "from tensorflow.keras.utils import to_categorical\n",
    "from tensorflow.keras.callbacks import ModelCheckpoint\n",
    "import h5py"
   ]
  },
  {
   "cell_type": "code",
   "execution_count": 138,
   "id": "088c9040",
   "metadata": {},
   "outputs": [],
   "source": [
    "# input:  list of file names\n",
    "\n",
    "# output: a list of strings where chords are a grouping of numerical notes, \n",
    "#         separated by '.'; notes are the note names themselves\n",
    "def file_to_note_str(files):\n",
    "    notes = []\n",
    "    for file in files:\n",
    "        # load file into Music21 stream to get list of all the notes and chords\n",
    "        midi = converter.parse(file)\n",
    "        notes_to_parse = None\n",
    "        parts = instrument.partitionByInstrument(midi)\n",
    "        # melodies must be in the same position! (Here the bass lines are in index 2 of the midi)\n",
    "        notes_to_parse = parts.parts[2].recurse()\n",
    "        for elem in notes_to_parse:\n",
    "            if isinstance(elem, note.Note):\n",
    "                notes.append(str(elem.pitch))\n",
    "            elif isinstance(elem, chord.Chord):\n",
    "                # append chords by encoding the id of every note in the chord together in a string separated by a dot\n",
    "                notes.append('.'.join(str(n) for n in elem.normalOrder))\n",
    "    return notes"
   ]
  },
  {
   "cell_type": "code",
   "execution_count": 154,
   "id": "be0543e1",
   "metadata": {},
   "outputs": [
    {
     "name": "stdout",
     "output_type": "stream",
     "text": [
      "['E-5', 'E-5', 'E-5', 'E-5', 'E-5', 'E-5', 'E-5', 'G4', 'G4', 'G4', 'G4', 'G4', 'G4', 'B-3', 'B-3', 'B-3', 'B-3', 'B-3', 'B-3', 'B-3', 'G4', 'G4', 'G4', 'G4', 'G4', 'G4', 'E-5', 'E-5', 'E-5', 'E-5', 'E-5', 'E-5', 'E-5', 'G4', 'G4', 'G4', 'G4', 'G4', 'G4', 'B-3', 'B-3', 'B-3', 'B-3', 'B-3', 'B-3', 'B-3', 'G4', 'G4', 'G4', 'G4', 'G4', 'G4', 'E-5', 'E-5', 'E-5', 'E-5', 'E-5', 'E-5', 'E-5', 'G4', 'G4', 'G4', 'G4', 'G4', 'G4', 'B-3', 'B-3', 'B-3', 'B-3', 'B-3', 'B-3', 'B-3', 'G4', 'G4', 'G4', 'G4', 'G4', 'G4', 'E-5', 'E-5', 'E-5', 'E-5', 'E-5', 'E-5', 'E-5', 'G4', 'G4', 'G4', 'G4', 'G4', 'G4', 'B-3', 'B-3', 'B-3', 'B-3', 'B-3', 'B-3', 'B-3', 'G4', 'G4', 'G4', 'G4', 'G4', 'G4', 'E-5', 'E-5', 'E-5', 'E-5', 'E-5', 'E-5', 'E-5', 'G4', 'G4', 'G4', 'G4', 'G4', 'G4', 'B-3', 'B-3', 'B-3', 'B-3', 'B-3', 'B-3', 'B-3', 'G4', 'G4', 'G4', 'G4', 'G4', 'G4', 'E-5', 'E-5', 'E-5', 'E-5', 'E-5', 'E-5', 'E-5', 'G4', 'G4', 'G4', 'G4', 'G4', 'G4', 'B-3', 'B-3', 'B-3', 'B-3', 'B-3', 'B-3', 'B-3', 'G4', 'G4', 'G4', 'G4', 'G4', 'G4', 'E-5', 'E-5', 'E-5', 'E-5', 'E-5', 'E-5', 'E-5', 'G4', 'G4', 'G4', 'G4', 'G4', 'G4', 'B-3', 'B-3', 'B-3', 'B-3', 'B-3', 'B-3', 'B-3', 'G4', 'G4', 'G4', 'G4', 'G4', 'G4', 'E-5', 'E-5', 'E-5', 'E-5', 'E-5', 'E-5', 'E-5', 'G4', 'G4', 'G4', 'G4', 'G4', 'G4', 'B-3', 'B-3', 'B-3', 'B-3', 'B-3', 'B-3', 'B-3', 'G4', 'G4', 'G4', 'G4', 'G4', 'G4', 'E-5', 'E-5', 'E-5', 'E-5', 'E-5', 'E-5', 'E-5', 'D5', 'E-5', 'D5', 'G4', 'G4', 'G4', 'G4', 'B-3', 'B-3', 'B-3', 'B-3', 'B-3', 'B-3', 'B-3', 'G4', 'G4', 'G4', 'G4', 'G4', 'G4', 'E-5', 'E-5', 'E-5', 'E-5', 'E-5', 'E-5', 'E-5', 'D5', 'E-5', 'D5', 'G4', 'G4', 'G4', 'G4', 'B-3', 'B-3', 'B-3', 'B-3', 'B-3', 'B-3', 'B-3', 'G4', 'G4', 'G4', 'G4', 'G4', 'G4', 'E-5', 'E-5', 'E-5', 'E-5', 'E-5', 'E-5', 'E-5', 'D5', 'E-5', 'D5', 'G4', 'G4', 'G4', 'G4', 'B-3', 'B-3', 'B-3', 'B-3', 'B-3', 'B-3', 'B-3', 'E-4', 'D4', 'C4', 'G3', 'G4', 'G4', 'G4', 'E-5', 'E-5', 'E-5', 'E-5', 'E-5', 'E-5', 'E-5', 'D5', 'E-5', 'D5', 'G4', 'G4', 'G4', 'G4', 'B-3', 'B-3', 'B-3', 'B-3', 'B-3', 'B-3', 'B-3', 'E-4', 'D4', 'C4', 'G3', 'G4', 'G4', 'G4', 'E-5', 'E-5', 'E-5', 'E-5', 'E-5', 'E-5', 'E-5', 'D5', 'E-5', 'D5', 'G4', 'G4', 'G4', 'G4', 'B-3', 'B-3', 'B-3', 'B-3', 'B-3', 'B-3', 'B-3', 'G4', 'G4', 'G4', 'G4', 'G4', 'G4', 'E-5', 'E-5', 'E-5', 'E-5', 'E-5', 'E-5', 'E-5', 'G4', 'G4', 'G4', 'G4', 'G4', 'G4', 'B-3', 'B-3', 'B-3', 'B-3', 'B-3', 'B-3', 'B-3', 'G4', 'G4', 'G4', 'G4', 'G4', 'G4', 'E-5', 'E-5', 'E-5', 'E-5', 'E-5', 'E-5', 'E-5', 'G4', 'G4', 'G4', 'G4', 'G4', 'G4', 'B-3', 'B-3', 'B-3', 'B-3', 'B-3', 'B-3', 'B-3', 'G4', 'G4', 'G4', 'G4', 'G4', 'G4', 'E-5', 'E-5', 'E-5', 'E-5', 'E-5', 'E-5', 'E-5', 'G4', 'G4', 'G4', 'G4', 'G4', 'G4', 'B-3', 'B-3', 'B-3', 'B-3', 'B-3', 'B-3', 'B-3', 'G4', 'G4', 'G4', 'G4', 'G4', 'G4', 'E-5', 'E-5', 'E-5', 'E-5', 'E-5', 'E-5', 'E-5', 'G4', 'G4', 'G4', 'G4', 'G4', 'G4', 'B-3', 'B-3', 'B-3', 'B-3', 'B-3', 'B-3', 'B-3', 'G4', 'G4', 'G4', 'G4', 'G4', 'G4', 'E-5', 'E-5', 'E-5', 'E-5', 'E-5', 'E-5', 'E-5', 'G4', 'G4', 'G4', 'G4', 'G4', 'G4', 'B-3', 'B-3', 'B-3', 'B-3', 'B-3', 'B-3', 'B-3', 'G4', 'G4', 'G4', 'G4', 'G4', 'G4', 'E-5', 'E-5', 'E-5', 'E-5', 'E-5', 'E-5', 'E-5', 'D5', 'E-5', 'D5', 'G4', 'G4', 'G4', 'G4', 'B-3', 'B-3', 'B-3', 'B-3', 'B-3', 'B-3', 'B-3', 'G4', 'G4', 'G4', 'G4', 'G4', 'G4', 'E-5', 'E-5', 'E-5', 'E-5', 'E-5', 'E-5', 'E-5', 'D5', 'E-5', 'D5', 'G4', 'G4', 'G4', 'G4', 'B-3', 'B-3', 'B-3', 'B-3', 'B-3', 'B-3', 'B-3', 'G4', 'G4', 'G4', 'G4', 'G4', 'G4', 'E-5', 'E-5', 'E-5', 'E-5', 'E-5', 'E-5', 'E-5', 'D5', 'E-5', 'D5', 'G4', 'G4', 'G4', 'G4', 'B-3', 'B-3', 'B-3', 'B-3', 'B-3', 'B-3', 'B-3', 'E-4', 'D4', 'C4', 'G3', 'G4', 'G4', 'G4', 'E-5', 'E-5', 'E-5', 'E-5', 'E-5', 'E-5', 'E-5', 'D5', 'E-5', 'D5', 'G4', 'G4', 'G4', 'G4', 'B-3', 'B-3', 'B-3', 'B-3', 'B-3', 'B-3', 'B-3', 'E-4', 'D4', 'C4', 'G3', 'G4', 'G4', 'G4', 'E-5', 'E-5', 'E-5', 'E-5', 'E-5', 'E-5', 'E-5', 'D5', 'E-5', 'D5', 'G4', 'G4', 'G4', 'G4', 'B-3', 'B-3', 'B-3', 'B-3', 'B-3', 'B-3', 'B-3', 'G4', 'G4', 'G4', 'G4', 'G4', 'G4', 'E-5', 'E-5', 'E-5', 'E-5', 'E-5', 'E-5', 'E-5', 'G4', 'G4', 'G4', 'G4', 'G4', 'G4', 'B-3', 'B-3', 'B-3', 'B-3', 'B-3', 'B-3', 'B-3', 'G4', 'G4', 'G4', 'G4', 'G4', 'G4', 'E-5', 'E-5', 'E-5', 'E-5', 'E-5', 'E-5', 'E-5', 'G4', 'G4', 'G4', 'G4', 'G4', 'G4', 'B-3', 'B-3', 'B-3', 'B-3', 'B-3', 'B-3', 'B-3', 'G4', 'G4', 'G4', 'G4', 'G4', 'G4', 'E-5', 'E-5', 'E-5', 'E-5', 'E-5', 'E-5', 'E-5', 'G4', 'G4', 'G4', 'G4', 'G4', 'G4', 'B-3', 'B-3', 'B-3', 'B-3', 'B-3', 'B-3', 'B-3', 'G4', 'G4', 'G4', 'G4', 'G4', 'G4', 'E-5', 'E-5', 'E-5', 'E-5', 'E-5', 'E-5', 'E-5', 'G4', 'G4', 'G4', 'G4', 'G4', 'G4', 'B-3', 'B-3', 'B-3', 'B-3', 'B-3', 'B-3', 'B-3', 'G4', 'G4', 'G4', 'G4', 'G4', 'G4', 'E-5', 'E-5', 'E-5', 'E-5', 'E-5', 'E-5', 'E-5', 'G4', 'G4', 'G4', 'G4', 'G4', 'G4', 'B-3', 'B-3', 'B-3', 'B-3', 'B-3', 'B-3', 'B-3', 'G4', 'G4', 'G4', 'G4', 'G4', 'G4', 'E-5', 'E-5', 'E-5', 'E-5', 'E-5', 'E-5', 'E-5', 'G4', 'G4', 'G4', 'G4', 'G4', 'G4', 'B-3', 'B-3', 'B-3', 'B-3', 'B-3', 'B-3', 'B-3', 'G4', 'G4', 'G4', 'G4', 'G4', 'G4', 'E-5', 'E-5', 'E-5', 'E-5', 'E-5', 'E-5', 'E-5', 'G4', 'G4', 'G4', 'G4', 'G4', 'G4', 'B-3', 'B-3', 'B-3', 'B-3', 'B-3', 'B-3', 'B-3', 'G4', 'G4', 'G4', 'G4', 'G4', 'G4', 'G3', 'G3', 'G3', 'G3', 'G3', 'G3', 'G3', 'G3', 'G3', 'G3', 'G3', 'G3', 'G3', 'G3', 'G3', 'G3', 'B-3', 'B-3', 'B-3', 'B-3', 'B-3', 'B-3', 'B-3', 'B3', 'C4', 'C#4', 'D4', 'D4', 'E-4', 'E-4', 'E-4', 'D4', 'E-4', 'E-4', 'E-4', 'D4', 'E-4', 'E-4', 'E-4', 'E-4', 'E-4', 'E-4', 'D4', 'E-4', 'E-4', 'E-4', 'D4', 'E-4', 'E-4', 'E-4', 'D4', 'E-4', 'E-4', 'E-4', 'E-4', 'E-4', 'E-4', 'D4', 'E-4', 'E-4', 'E-4', 'D4', 'E-4', 'E-4', 'E-4', 'D4', 'E-4', 'E-4', 'E-4', 'E-4', 'E-4', 'E-4', 'D4', 'E-4', 'E-4', 'E-4', 'D4', 'E-4', 'E-4', 'E-4', 'D4', 'E-4', 'E-4', 'E-4', 'D4', 'E-4', 'E-4', 'F5', 'C6', 'F5', 'C6', 'F5', 'C6', 'F5', 'C6', 'F5', 'C6', 'F5', 'C6', 'D4', 'C5', 'C6', 'C5', 'C6', 'C5', 'C6', 'C5', 'C6', 'C5', 'C6', 'C5', 'C6', 'D4', 'F5', 'C6', 'F5', 'C6', 'F5', 'C6', 'F5', 'C6', 'F5', 'C6', 'F5', 'C6', 'D4', 'C5', 'C6', 'C5', 'C6', 'C5', 'C6', 'C5', 'C6', 'C5', 'C6', 'C5', 'C6', 'D4', 'F5', 'C6', 'F5', 'C6', 'F5', 'C6', 'F5', 'C6', 'F5', 'C6', 'F5', 'C6', 'D4', 'C5', 'C6', 'C5', 'C6', 'C5', 'C6', 'C5', 'C6', 'C5', 'C6', 'C5', 'C6', 'D4', 'F5', 'C6', 'F5', 'C6', 'F5', 'C6', 'F5', 'C6', 'F5', 'C6', 'F5', 'C6', 'D4', 'C5', 'C6', 'C5', 'C6', 'C5', 'C6', 'C5', 'C6', 'C5', 'C6', 'C5', 'C6', 'D4', 'F5', 'C6', 'F5', 'C6', 'F5', 'C6', 'F5', 'C6', 'F5', 'C6', 'F5', 'C6', 'D4', 'C5', 'C6', 'C5', 'C6', 'C5', 'C6', 'C5', 'C6', 'C5', 'C6', 'C5', 'C6', 'D4', 'F5', 'C6', 'F5', 'C6', 'F5', 'C6', 'F5', 'C6', 'F5', 'C6', 'F5', 'C6', 'D4', 'C5', 'C6', 'C5', 'C6', 'C5', 'C6', 'C5', 'C6', 'C5', 'C6', 'C5', 'C6', 'D4', 'F5', 'C6', 'F5', 'C6', 'F5', 'C6', 'F5', 'C6', 'F5', 'C6', 'F5', 'C6', 'D4', 'C5', 'C6', 'C5', 'C6', 'C5', 'C6', 'C5', 'C6', 'C5', 'C6', 'C5', 'C6', 'F4', 'C5', 'F4', 'C5', 'F4', 'C5', 'F4', 'C5', 'F4', 'C5', 'F4', 'C5', 'F4', 'C4', 'C5', 'C4', 'C5', 'C4', 'C5', 'C4', 'C5', 'C4', 'C5', 'C4', 'C5', 'C4', 'F4', 'C5', 'F4', 'C5', 'F4', 'C5', 'F4', 'C5', 'F4', 'C5', 'F4', 'C5', 'F4', 'C4', 'C5', 'C4', 'C5', 'C4', 'C5', 'C4', 'C5', 'C4', 'C5', 'C4', 'C5', 'C4', 'F4', 'C5', 'F4', 'C5', 'F4', 'C5', 'F4', 'C5', 'F4', 'C5', 'F4', 'C5', 'F4', 'C4', 'C5', 'C4', 'C5', 'C4', 'C5', 'C4', 'C5', 'C4', 'C5', 'C4', 'C5', 'C4', 'F4', 'C5', 'F4', 'C5', 'F4', 'C5', 'F4', 'C5', 'F4', 'C5', 'F4', 'C5', 'F4', 'C4', 'C5', 'C4', 'C5', 'C4', 'C5', 'C4', 'C5', 'C4', 'C5', 'C4', 'C5', 'C4', 'F4', 'C5', 'F4', 'C5', 'F4', 'C5', 'F4', 'C5', 'F4', 'C5', 'F4', 'C5', 'F4', 'C4', 'C5', 'C4', 'C5', 'C4', 'C5', 'C4', 'C5', 'C4', 'C5', 'C4', 'C5', 'C4', 'F4', 'C5', 'F4', 'C5', 'F4', 'C5', 'F4', 'C5', 'F4', 'C5', 'F4', 'C5', 'F4', 'C4', 'C5', 'C4', 'C5', 'C4', 'C5', 'C4', 'C5', 'C4', 'C5', 'C4', 'C5', 'C4', '0.5', 'C6', 'F5', 'C6', 'F5', 'C6', 'F5', 'C6', 'F5', 'C6', 'F5', 'C6', 'F5', 'C6', 'F5', '7.0', 'G5', 'C5', 'G5', 'C5', 'G5', '7.0', 'C5', 'G5', 'C5', 'G5', 'C5', 'G5', 'C5', '0.5', 'C6', 'F5', 'C6', 'F5', 'C6', 'F5', 'C6', 'F5', 'C6', 'F5', 'C6', 'F5', 'C6', 'F5', '7.0', 'G5', 'C5', 'G5', 'C5', 'G5', '7.0', 'C5', 'G5', 'C5', 'G5', 'C5', 'G5', 'C5', '0.5', 'C6', 'F5', 'C6', 'F5', 'C6', 'F5', 'C6', 'F5', 'C6', 'F5', 'C6', 'F5', 'C6', 'F5', '7.0', 'G5', 'C5', 'G5', 'C5', 'G5', '7.0', 'C5', 'G5', 'C5', 'G5', 'C5', 'G5', 'C5', '0.5', 'C6', 'F5', 'C6', 'F5', 'C6', 'F5', 'C6', 'F5', 'C6', 'F5', 'C6', 'F5', 'C6', 'F5', '7.0', 'G5', 'C5', 'G5', 'C5', 'G5', '7.0', 'C5', 'G5', 'C5', 'G5', 'C5', 'G5', 'C5', '0.5', 'C6', 'F5', 'C6', 'F5', 'C6', 'F5', 'C6', 'F5', 'C6', 'F5', 'C6', 'F5', 'C6', 'F5', '7.0', 'G5', 'C5', 'G5', 'C5', 'G5', '7.0', 'C5', 'G5', 'C5', 'G5', 'C5', 'G5', 'C5', 'F5', 'F5', 'C6', 'F5', 'C6', 'F5', 'C6', 'F5', 'C6', 'F5', 'C6', 'C6', 'C6', 'C5', 'G5', 'C5', 'G5', 'C5', 'G5', 'C5', 'G5', 'C5', 'G5', 'C5', 'G5', 'D4', 'F4', 'C5', 'F4', 'C5', 'F4', 'C5', 'F4', 'C5', 'F4', 'C5', 'F4', 'C5', 'F4', 'C4', 'C4', 'C4', 'C5', 'C4', 'C5', 'C4', 'C5', 'C4', 'C5', 'C4', 'C5', 'C4', 'F4', 'C5', 'F4', 'C5', 'F4', 'C5', 'F4', 'C5', 'F4', 'C5', 'F4', 'C5', 'F4', 'C4', 'C4', 'C4', 'C5', 'C4', 'C5', 'C4', 'C5', 'C4', 'C5', 'C4', 'C5', 'C4', 'F4', 'C5', 'F4', 'C5', 'F4', 'C5', 'F4', 'C5', 'F4', 'C5', 'F4', 'C5', 'F4', 'C4', 'C4', 'C4', 'C5', 'C4', 'C5', 'C4', 'C5', 'C4', 'C5', 'C4', 'C5', 'C4', 'F4', 'C5', 'F4', 'C5', 'F4', 'C5', 'F4', 'C5', 'F4', 'C5', 'F4', 'C5', 'F4', 'C4', 'C4', 'C4', 'C5', 'C4', 'C5', 'C4', 'C5', 'C4', 'C5', 'C4', 'C5', 'C4', '0.5', 'C6', 'F5', 'C6', 'F5', 'C6', 'F5', 'C6', 'F5', 'C6', 'F5', 'C6', 'F5', 'C6', 'F5', '7.0', 'G5', 'C5', 'G5', 'C5', 'G5', '7.0', 'C5', 'G5', 'C5', 'G5', 'C5', 'G5', 'C5', '0.5', 'C6', 'F5', 'C6', 'F5', 'C6', 'F5', 'C6', 'F5', 'C6', 'F5', 'C6', 'F5', 'C6', 'F5', '7.0', 'G5', 'C5', 'G5', 'C5', 'G5', '7.0', 'C5', 'G5', 'C5', 'G5', 'C5', 'G5', 'C5', '0.5', 'C6', 'F5', 'C6', 'F5', 'C6', 'F5', 'C6', 'F5', 'C6', 'F5', 'C6', 'F5', 'C6', 'F5', '7.0', 'G5', 'C5', 'G5', 'C5', 'G5', '7.0', 'C5', 'G5', 'C5', 'G5', 'C5', 'G5', 'C5', '0.5', 'C6', 'F5', 'C6', 'F5', 'C6', 'F5', 'C6', 'F5', 'C6', 'F5', 'C6', 'F5', 'C6', 'F5', '7.0', 'G5', 'C5', 'G5', 'C5', 'G5', '7.0', 'C5', 'G5', 'C5', 'G5', 'C5', 'G5', 'C5', '0.5', 'C6', 'F5', 'C6', 'F5', 'C6', 'F5', 'C6', 'F5', 'C6', 'F5', 'C6', 'F5', 'C6', 'F5', '7.0', 'C5', 'G5', 'C5', 'G5', 'C5', 'G5', 'C5', 'G5', 'C5', 'G5', 'C5', 'G5', 'C5', 'G4', 'F5', 'F5', 'F5', 'F5', 'F5', 'F5', 'F5', 'F5', 'F5', 'F5', 'F5', 'F5', 'F5', 'E5', 'F5', 'G5', 'C5', 'C5', 'C5', 'C5', 'C5', 'C5', 'C5', 'E5', 'C5', 'E5', 'C5', 'E5', 'G5', 'G5', 'G5', 'F5', 'F5', 'F5', 'F5', 'F5', 'F5', 'F5', 'F5', 'F5', 'F5', 'F5', 'F5', 'F5', 'E5', 'F5', 'G4', 'F5', 'C5', 'C5', 'C5', 'C5', 'C5', 'C5', 'C5', 'C5', 'C5', 'C5', 'C5', 'E5', 'E5', 'C5', 'E5', 'E5', 'F5', 'F5', 'F5', 'F5', 'F5', 'F5', 'F5', 'F5', 'F5', 'F5', 'F5', 'F5', 'F5', 'E5', 'F5', 'G5', 'C5', 'C5', 'C5', 'C5', 'C5', 'C5', 'C5', 'E5', 'C5', 'E5', 'C5', 'E5', 'G5', 'G5', 'G5', 'F5', 'F5', 'F5', 'F5', 'F5', 'F5', 'F5', 'F5', 'F5', 'F5', 'F5', 'F5', 'F5', 'E5', 'F5', 'G4', 'F5', 'C5', 'C5', 'C5', 'C5', 'C5', 'C5', 'C5', 'C5', 'C5', 'C5', 'C5', 'C5', 'C5', 'C5', 'E5', 'E5', 'F5', 'F5', 'F5', 'F5', 'F5', 'F5', 'F5', 'F5', 'F5', 'F5', 'F5', 'F5', 'F5', 'E5', 'F5', 'G5', 'C5', 'C5', 'C5', 'C5', 'C5', 'C5', 'C5', 'E5', 'C5', 'E5', 'C5', 'E5', 'G5', 'G5', 'G5', 'F5', 'F5', 'F5', 'F5', 'F5', 'F5', 'F5', 'F5', 'F5', 'F5', 'F5', 'F5', 'F5', 'E5', 'F5', 'G4', 'F5', 'C5', 'C5', 'C5', 'C5', 'C5', 'C5', 'C5', 'C5', 'E5', 'E5', 'C5', 'E5', 'C5', 'E5', 'E5', 'F5', 'F5', 'F5', 'F5', 'F5', 'F5', 'F5', 'F5', 'F5', 'F5', 'F5', 'F5', 'F5', 'E5', 'F5', 'G5', 'C5', 'C5', 'C5', 'C5', 'C5', 'C5', 'C5', 'E5', 'C5', 'E5', 'C5', 'E5', 'G5', 'G5', 'G5', 'F5', 'F5', 'F5', 'F5', 'F5', 'F5', 'F5', 'F5', 'F5', 'F5', 'F5', 'F5', 'F5', 'E5', 'F5', 'G4', 'F5', 'C5', 'C5', 'C5', 'C5', 'C5', 'C5', 'C5', '0.4', '0.4', '0.4', '0.4', '0.4', '0.4', '0.4', '0.4', '0.5', 'C6', 'F5', 'C6', 'F5', 'C6', 'F5', 'C6', 'F5', 'C6', 'F5', 'C6', 'F5', 'C6', 'F5', '7.0', 'G5', 'C5', 'G5', 'C5', 'G5', '7.0', 'C5', 'G5', 'C5', 'G5', 'C5', 'G5', 'C5', '0.5', 'C6', 'F5', 'C6', 'F5', 'C6', 'F5', 'C6', 'F5', 'C6', 'F5', 'C6', 'F5', 'C6', 'F5', '7.0', 'G5', 'C5', 'G5', 'C5', 'G5', '7.0', 'C5', 'G5', 'C5', 'G5', 'C5', 'G5', 'C5', '0.5', 'C6', 'F5', 'C6', 'F5', 'C6', 'F5', 'C6', 'F5', 'C6', 'F5', 'C6', 'F5', '0.5', '7.0', 'G5', 'C5', 'G5', 'C5', 'G5', '7.0', 'C5', 'G5', 'C5', 'G5', 'C5', 'G5', 'C5', '0.5', 'C6', 'F5', 'C6', 'F5', 'C6', 'F5', 'C6', 'F5', 'C6', 'F5', 'C6', 'F5', 'C6', 'F5', '7.0', 'D6', 'D6', 'D6', 'D6', 'D6', 'D6', 'D6', 'C6', 'D6', 'C6', 'B-5', 'B-5', 'B-5', 'B-5', 'C6', 'C6', 'C6', 'C6', 'C6', 'C6', 'C6', 'B-5', 'C6', 'B-5', 'G5', 'G5', 'G5', 'B-5', 'D6', 'D6', 'D6', 'D6', 'D6', 'D6', 'D6', 'C6', 'D6', 'C6', 'B-5', 'B-5', 'B-5', 'B-5', 'C6', 'C6', 'C6', 'C6', 'C6', 'C6', 'C6', 'B-5', 'C6', 'B-5', 'G5', 'G5', 'G5', 'B-5', 'D6', 'D6', 'D6', 'D6', 'D6', 'D6', 'D6', 'C6', 'D6', 'C6', 'B-5', 'B-5', 'B-5', 'B-5', 'C6', 'C6', 'C6', 'C6', 'C6', 'C6', 'C6', 'B-5', 'C6', 'B-5', 'G5', 'G5', 'G5', 'B-5', 'D6', 'D6', 'D6', 'D6', 'D6', 'D6', 'D6', 'C6', 'D6', 'C6', 'B-5', 'B-5', 'B-5', 'B-5', 'C6', 'C6', 'C6', 'C6', 'C6', 'C6', 'C6', 'B-5', 'C6', 'B-5', 'G5', 'G5', 'G5', 'B-5', 'D6', 'D6', 'D6', 'D6', 'D6', 'D6', 'D6', 'C6', 'D6', 'C6', 'B-5', 'B-5', 'B-5', 'B-5', 'C6', 'C6', 'C6', 'C6', 'C6', 'C6', 'C6', 'B-5', 'C6', 'B-5', 'G5', 'G5', 'G5', 'B-5', 'D6', 'D6', 'D6', 'D6', 'D6', 'D6', 'D6', 'C6', 'D6', 'C6', 'B-5', 'B-5', 'B-5', 'B-5', 'C6', 'C6', 'C6', 'C6', 'C6', 'C6', 'C6', 'B-5', 'C6', 'B-5', 'G5', 'G5', 'G5', 'B-5', 'D6', 'D6', 'D6', 'D6', 'D6', 'D6', 'D6', 'B-5', 'B-5', 'C6', 'C6', 'C6', 'C6', 'D6', 'D6', 'D6', 'D6', 'D6', 'D6', 'G5', 'G5', 'G5', 'G5', 'G5', 'G5', 'G5', 'B-5', 'D6', 'D6', 'D6', 'D6', 'D6', 'D6', 'D6', 'C6', 'D6', 'C6', 'B-5', 'B-5', 'B-5', 'B-5', 'C6', 'C6', 'C6', 'C6', 'C6', 'C6', 'C6', 'B-5', 'C6', 'B-5', 'G5', 'G5', 'G5', 'B-5', 'D6', 'D6', 'D6', 'D6', 'D6', 'D6', 'D6', 'C6', 'D6', 'C6', 'B-5', 'B-5', 'B-5', 'B-5', 'C6', 'C6', 'C6', 'C6', 'C6', 'C6', 'C6', 'B-5', 'C6', 'B-5', 'G5', 'G5', 'G5', 'B-5', 'D6', 'D6', 'D6', 'D6', 'D6', 'D6', 'D6', 'C6', 'D6', 'C6', 'B-5', 'B-5', 'B-5', 'B-5', 'C6', 'C6', 'C6', 'C6', 'C6', 'C6', 'C6', 'B-5', 'C6', 'B-5', 'G5', 'G5', 'G5', 'B-5', 'D6', 'D6', 'D6', 'D6', 'D6', 'D6', 'D6', 'C6', 'D6', 'C6', 'B-5', 'B-5', 'B-5', 'B-5', 'C6', 'C6', 'C6', 'C6', 'C6', 'C6', 'C6', 'B-5', 'C6', 'B-5', 'G5', 'G5', 'G5', 'B-5', 'D6', 'D6', 'D6', 'D6', 'D6', 'D6', 'D6', 'C6', 'D6', 'C6', 'B-5', 'B-5', 'B-5', 'B-5', 'C6', 'C6', 'C6', 'C6', 'C6', 'C6', 'C6', 'B-5', 'C6', 'B-5', 'G5', 'G5', 'G5', 'B-5', 'D6', 'D6', 'D6', 'D6', 'D6', 'D6', 'D6', 'C6', 'D6', 'C6', 'B-5', 'B-5', 'B-5', 'B-5', 'C6', 'C6', 'C6', 'C6', 'C6', 'C6', 'C6', 'B-5', 'C6', 'B-5', 'G5', 'G5', 'G5', 'B-5', 'D6', 'D6', 'D6', 'D6', 'D6', 'D6', 'D6', 'B-5', 'B-5', 'C6', 'C6', 'C6', 'C6', 'D6', 'D6', 'D6', 'D6', 'D6', 'D6', 'G5', 'G5', 'G5', 'G5', 'G5', 'G5', 'G5', 'B-5', 'D6', 'D6', 'D6', 'D6', 'D6', 'D6', 'D6', 'B-5', 'B-5', 'C6', 'C6', 'C6', 'C6', 'D6', 'D6', 'D6', 'D6', 'D6', 'D6', 'G5', 'G5', 'G5', 'G5', 'G5', 'G5', 'G5', 'B-5', 'G4', 'G4', 'A4', 'A4', 'A4', 'B-4', 'B-4', 'B-4', 'B-4', 'C5', 'C5', 'C5', 'C5', 'D5', 'D5', 'D5', 'D5', 'D5', 'D5', 'D5', 'D5', 'D5', 'D5', 'D5', 'D5', 'D5', 'D5', 'D5', 'D5', 'G4', 'G4', 'A4', 'A4', 'A4', 'B-4', 'B-4', 'B-4', 'B-4', 'C5', 'C5', 'C5', 'C5', 'A4', 'A4', 'A4', 'A4', 'A4', 'A4', 'A4', 'A4', 'A4', 'A4', 'A4', 'A4', 'A4', 'A4', 'A4', 'A4', 'G4', 'G4', 'A4', 'A4', 'A4', 'B-4', 'B-4', 'B-4', 'B-4', 'C5', 'C5', 'C5', 'C5', 'D5', 'D5', 'D5', 'D5', 'D5', 'D5', 'D5', 'D5', 'D5', 'D5', 'D5', 'D5', 'D5', 'D5', 'D5', 'D5', 'G4', 'G4', 'A4', 'A4', 'A4', 'B-4', 'B-4', 'B-4', 'B-4', 'C5', 'C5', 'C5', 'C5', 'A4', 'A4', 'A4', 'A4', 'A4', 'A4', 'A4', 'A4', 'A4', 'A4', 'A4', 'A4', 'A4', 'A4', 'A4', 'A4', 'D6', 'D6', 'D6', 'D6', 'D6', 'D6', 'D6', 'C6', 'D6', 'C6', 'B-5', 'B-5', 'B-5', 'B-5', 'C6', 'C6', 'C6', 'C6', 'C6', 'C6', 'C6', 'B-5', 'C6', 'B-5', 'G5', 'G5', 'G5', 'B-5', 'D6', 'D6', 'D6', 'D6', 'D6', 'D6', 'D6', 'C6', 'D6', 'C6', 'B-5', 'B-5', 'B-5', 'B-5', 'C6', 'C6', 'C6', 'C6', 'C6', 'C6', 'C6', 'B-5', 'C6', 'B-5', 'G5', 'G5', 'G5', 'B-5', 'D6', 'D6', 'D6', 'D6', 'D6', 'D6', 'D6', 'C6', 'D6', 'C6', 'B-5', 'B-5', 'B-5', 'B-5', 'C6', 'C6', 'C6', 'C6', 'C6', 'C6', 'C6', 'B-5', 'C6', 'B-5', 'G5', 'G5', 'G5', 'B-5', 'D6', 'D6', 'D6', 'D6', 'D6', 'D6', 'D6', 'C6', 'D6', 'C6', 'B-5', 'B-5', 'B-5', 'B-5', 'C6', 'C6', 'C6', 'C6', 'C6', 'C6', 'C6', 'B-5', 'C6', 'B-5', 'G5', 'G5', 'G5', 'B-5', 'D6', 'D6', 'D6', 'D6', 'D6', 'D6', 'D6', 'C6', 'D6', 'C6', 'B-5', 'B-5', 'B-5', 'B-5', 'C6', 'C6', 'C6', 'C6', 'C6', 'C6', 'C6', 'B-5', 'C6', 'B-5', 'G5', 'G5', 'G5', 'B-5', 'D6', 'D6', 'D6', 'D6', 'D6', 'D6', 'D6', 'C6', 'D6', 'C6', 'B-5', 'B-5', 'B-5', 'B-5', 'C6', 'C6', 'C6', 'C6', 'C6', 'C6', 'C6', 'B-5', 'C6', 'B-5', 'G5', 'G5', 'G5', 'B-5', 'D6', 'D6', 'D6', 'D6', 'D6', 'D6', 'D6', 'B-5', 'B-5', 'C6', 'C6', 'C6', 'C6', 'D6', 'D6', 'D6', 'D6', 'D6', 'D6', 'G5', 'G5', 'G5', 'G5', 'G5', 'G5', 'G5', 'B-5', 'D6', 'D6', 'D6', 'D6', 'D6', 'D6', 'D6', 'B-5', 'B-5', 'C6', 'C6', 'C6', 'C6', 'D6', 'D6', 'D6', 'D6', 'D6', 'D6', 'G5', 'G5', 'G5', 'G5', 'G5', 'G5', 'G5', 'B-5', 'G4', 'G4', 'A4', 'A4', 'A4', 'B-4', 'B-4', 'B-4', 'B-4', 'C5', 'C5', 'C5', 'C5', 'D5', 'D5', 'D5', 'D5', 'D5', 'D5', 'D5', 'D5', 'D5', 'D5', 'D5', 'D5', 'D5', 'D5', 'D5', 'D5', 'G4', 'G4', 'A4', 'A4', 'A4', 'B-4', 'B-4', 'B-4', 'B-4', 'C5', 'C5', 'C5', 'C5', 'A4', 'A4', 'A4', 'A4', 'A4', 'A4', 'A4', 'A4', 'A4', 'A4', 'A4', 'A4', 'A4', 'A4', 'A4', 'A4', 'G4', 'G4', 'A4', 'A4', 'A4', 'B-4', 'B-4', 'B-4', 'B-4', 'C5', 'C5', 'C5', 'C5', 'D5', 'D5', 'D5', 'D5', 'D5', 'D5', 'D5', 'D5', 'D5', 'D5', 'D5', 'D5', 'D5', 'D5', 'D5', 'D5', 'G4', 'G4', 'A4', 'A4', 'A4', 'B-4', 'B-4', 'B-4', 'B-4', 'C5', 'C5', 'C5', 'C5', 'A4', 'A4', 'A4', 'A4', 'A4', 'A4', 'A4', 'A4', 'A4', 'A4', 'A4', 'A4', 'A4', 'A4', 'A4', 'A4', 'G4', 'G4', 'A4', 'A4', 'A4', 'B-4', 'B-4', 'B-4', 'B-4', 'C5', 'C5', 'C5', 'C5', 'D5', 'D5', 'D5', 'D5', 'D5', 'D5', 'D5', 'D5', 'D5', 'D5', 'D5', 'D5', 'D5', 'D5', 'D5', 'D5', 'G4', 'G4', 'A4', 'A4', 'A4', 'B-4', 'B-4', 'B-4', 'B-4', 'C5', 'C5', 'C5', 'C5', 'A4', 'A4', 'A4', 'A4', 'A4', 'A4', 'A4', 'A4', 'A4', 'A4', 'A4', 'A4', 'A4', 'A4', 'A4', 'A4', 'G4', 'G4', 'A4', 'A4', 'A4', 'B-4', 'B-4', 'B-4', 'B-4', 'C5', 'C5', 'C5', 'C5', 'D5', 'D5', 'D5', 'D5', 'D5', 'D5', 'D5', 'D5', 'D5', 'D5', 'D5', 'D5', 'D5', 'D5', 'D5', 'D5', 'G4', 'G4', 'A4', 'A4', 'A4', 'B-4', 'B-4', 'B-4', 'B-4', 'C5', 'C5', 'C5', 'C5', 'A4', 'A4', 'D4', 'C#4', 'A3', 'A3', 'C#4', 'D4', 'C#4', 'D4', 'C#4', 'D4', 'C#4', 'D4', 'C#4', 'A3', 'A3', 'C#4', 'D4', 'C#4', 'D4', 'A3', 'D4', 'A3', 'D4', 'C#4', 'A3', 'A3', 'C#4', 'D4', 'C#4', 'D4', 'C#4', 'A3', 'C#4', 'D4', 'C#4', 'A3', 'A3', 'C#4', 'D4', 'C#4', 'D4', 'A4', 'G#4', 'G#4', 'D4', 'C#4', 'A3', 'A3', 'C#4', 'D4', 'C#4', 'D4', 'C#4', 'A3', 'C#4', 'D4', 'C#4', 'A3', 'A3', 'C#4', 'D4', 'C#4', 'D4', 'C#4', 'A3', 'C#4', 'D4', 'C#4', 'A3', 'A3', 'C#4', 'D4', 'C#4', 'D4', 'C#4', 'A3', 'C#4', 'D4', 'C#4', 'A3', 'A3', 'C#4', 'D4', 'C#4', 'D4', 'C#4', 'A3', 'C#4', 'D4', 'C#4', 'A3', 'A3', 'C#4', 'D4', 'C#4', 'D4', 'A4', 'G#4', 'G#4', 'D4', 'C#4', 'A3', 'A3', 'C#4', 'D4', 'C#4', 'D4', 'G#4', 'A4', 'A4', 'D4', 'C#4', 'A3', 'A3', 'C#4', 'D4', 'C#4', 'D4', 'A4', 'A4', 'A4', 'D4', 'C#4', 'A3', 'A3', 'C#4', 'D4', 'C#4', 'D4', 'G#4', 'A4', 'A4', 'D4', 'C#4', 'A3', 'A3', 'C#4', 'D4', 'C#4', 'D4', 'F#4', 'D4', 'F#4', 'D4', 'C#4', 'A3', 'A3', 'C#4', 'D4', 'C#4', 'D4', 'F#4', 'D4', 'F#4', 'D4', 'C#4', 'A3', 'A3', 'C#4', 'D4', 'C#4', 'D4', 'A4', 'G#4', 'G#4', 'D4', 'C#4', 'A3', 'A3', 'C#4', 'D4', 'C#4', 'D4', 'A4', 'G#4', 'G#4', 'D4', 'C#4', 'A3', 'A3', 'A3', 'C#4', 'D4', 'C#4', 'A3', 'A3', 'A3', 'C#4', 'D4', 'C#4', 'A3', 'A3', 'A3', 'C#4', 'D4', 'C#4', 'A3', 'A3', 'A3', 'C#4', 'D4', 'C#4', 'A3', 'A3', 'A3', 'C#4', 'D4', 'C#4', 'A3', 'A3', 'A3', 'C#4', 'D4', 'C#4', 'A3', 'A3', 'A3', 'C#4', 'D4', 'C#4', 'A3', 'A3', 'A3', 'C#4', 'D4', 'C#4', 'D4', 'D4', 'C#4', 'A3', 'A3', 'A3', 'C#4', 'D4', 'C#4', 'A3', 'A3', 'A3', 'C#4', 'D4', 'C#4', 'A3', 'A3', 'A3', 'C#4', 'D4', 'C#4', 'D4', 'D4', 'C#4', 'A3', 'A3', 'C#4', 'D4', 'C#4', 'D4', 'A4', 'G#4', 'G#4', 'D4', 'C#4', 'A3', 'A3', 'C#4', 'D4', 'C#4', 'D4', 'G#4', 'A4', 'A4', 'D4', 'C#4', 'A3', 'A3', 'C#4', 'D4', 'C#4', 'D4', 'A4', 'G#4', 'G#4', 'D4', 'C#4', 'A3', 'A3', 'C#4', 'D4', 'C#4', 'D4', 'C#4', 'A3', 'C#4', 'D4', 'C#4', 'A3', 'A3', 'C#4', 'D4', 'C#4', 'D4', 'C#4', 'A3', 'C#4', 'D4', 'C#4', 'A3', 'A3', 'C#4', 'D4', 'C#4', 'D4', 'C#4', 'A3', 'C#4', 'D4', 'C#4', 'A3', 'A3', 'C#4', 'D4', 'C#4', 'D4', 'A4', 'A4', 'A4', 'D4', 'C#4', 'A3', 'A3', 'C#4', 'D4', 'C#4', 'D4', 'A4', 'A4', 'A4', 'D4', 'C#4', 'A3', 'A3', 'C#4', 'D4', 'C#4', 'D4', 'A4', 'G#4', 'G#4', 'D4', 'C#4', 'A3', 'A3', 'C#4', 'D4', 'C#4', 'D4', 'A4', 'G#4', 'G#4', 'D4', 'C#4', 'A3', 'A3', 'C#4', 'D4', 'C#4', 'D4', 'A4', 'G#4', 'G#4', 'D4', 'C#4', 'A3', 'A3', 'C#4', 'D4', 'C#4', 'D4', 'A4', 'G#4', 'G#4', 'D4', 'C#4', 'A3', 'A3', 'C#4', 'D4', 'C#4', 'D4', 'A4', 'G#4', 'G#4', 'D4', 'C#4', 'A3', 'A3', 'A3', 'C#4', 'D4', 'C#4', 'A3', 'A3', 'A3', 'C#4', 'D4', 'C#4', 'A3', 'A3', 'A3', 'C#4', 'D4', 'C#4', 'A3', 'A3', 'C#4', 'D4', 'C#4', 'D4', 'A4', 'G#4', 'G#4', 'D4', 'C#4', 'A3', 'A3', 'C#4', 'D4', 'C#4', 'D4', 'C#4', 'D4', 'C#4', 'D4', 'C#4', 'A3', 'A3', 'C#4', 'D4', 'C#4', 'D4', 'C#4', 'A3', 'C#4', 'D4', 'C#4', 'A3', 'C#4', 'D4', 'C#4', 'D4', 'A4', 'G#4', 'G#4', 'D4', 'C#4', 'A3', 'A3', 'C#4', 'D4', 'C#4', 'D4', 'C#4', 'A3', 'C#4', 'D4', 'C#4', 'A3', 'C#4', 'D4', 'C#4', 'D4', 'A4', 'G#4', 'G#4', 'D4', 'C#4', 'A3', 'A3', 'C#4', 'D4', 'C#4', 'D4', 'C#4', 'A3', 'C#4', 'C#4', 'A3', 'D4', 'D4', 'D4', 'A3', 'C#4', 'A3', 'D4', 'D4', 'D4', 'A3', 'C#4', 'A3', 'D4', 'D4', 'D4', 'A3', 'C#4', 'A3', 'D4', 'D4', 'D4', 'A3', 'C#4', 'A3', 'D4', 'A3', 'C#4', 'A3', 'D4', 'A3', 'C#4', 'A3', 'D4', 'D4', 'D4', 'A3', 'D4', 'C#4', 'A3', 'A3', 'C#4', 'D4', 'C#4', 'D4', 'C#4', 'D4', 'C#4', 'D4', 'C#4', 'A3', 'A3', 'C#4', 'D4', 'C#4', 'D4', 'A4', 'G#4', 'G#4', 'D4', 'C#4', 'A3', 'A3', 'C#4', 'D4', 'C#4', 'D4', 'A4', 'A4', 'A4', 'D4', 'C#4', 'A3', 'A3', 'C#4', 'D4', 'C#4', 'D4', 'A4', 'A4', 'A4', 'D4', 'C#4', 'A3', 'A3', 'C#4', 'D4', 'C#4', 'D4', 'C#4', 'D4', 'C#4', 'D4', 'C#4', 'A3', 'A3', 'C#4', 'D4', 'C#4', 'D4', 'C#4', 'D4', 'C#4', 'D4', 'C#4', 'A3', 'A3', 'C#4', 'D4', 'C#4', 'D4', 'C#4', 'D4', 'C#4', 'D4', 'C#4', 'A3', 'A3', 'C#4', 'D4', 'C#4', 'D4', 'G#4', 'A4', 'A4', 'D4', 'C#4', 'A3', 'A3', 'C#4', 'D4', 'C#4', 'D4', 'C#4', 'D4', 'C#4', 'D4', 'C#4', 'A3', 'A3', 'C#4', 'D4', 'C#4', 'D4', 'G#4', 'A4', 'A4', 'D4', 'C#4', 'A3', 'A3', 'C#4', 'D4', 'C#4', 'D4', 'C#4', 'A3', 'C#4', 'D4', 'C#4', 'A3', 'A3', 'C#4', 'D4']\n"
     ]
    }
   ],
   "source": [
    "print(notes)"
   ]
  },
  {
   "cell_type": "code",
   "execution_count": 139,
   "id": "7258c0e4",
   "metadata": {},
   "outputs": [],
   "source": [
    "# prepare the input sequences and corresponding output for the rnn\n",
    "\n",
    "def prep_sequences(notes, sequence_length = 50):\n",
    "    # pitchnames holds all the different notes/chords in a set\n",
    "    pitchnames = sorted(set(notes))\n",
    "    n_vocab = len(pitchnames)\n",
    "    note_to_int = dict((note, number) for number, note in enumerate(pitchnames))\n",
    "    input= []\n",
    "    output = []\n",
    "    # create input sequences and the corresponding outputs\n",
    "    for i in range(0, len(notes) - sequence_length, 1):\n",
    "        sequence_in = notes[i:i + sequence_length]\n",
    "        sequence_out = notes[i + sequence_length]\n",
    "        input.append([note_to_int[char] for char in sequence_in])\n",
    "        output.append(note_to_int[sequence_out])\n",
    "    num_patterns = len(input)\n",
    "    input = np.reshape(input, (num_patterns, sequence_length, 1))\n",
    "    # normalize\n",
    "    input = input / float(n_vocab)\n",
    "    \n",
    "    output = to_categorical(output)\n",
    "    print('pitchnames:\\n', pitchnames)\n",
    "    print('number of notes/chords\\n', n_vocab)\n",
    "    return input, output, n_vocab\n"
   ]
  },
  {
   "cell_type": "code",
   "execution_count": 140,
   "id": "a2417ed2",
   "metadata": {},
   "outputs": [],
   "source": [
    "# prepare the model \n",
    "def create_model(input, n_vocab):\n",
    "    model = Sequential()\n",
    "    model.add(LSTM(256, input_shape=(input.shape[1], input.shape[2]), return_sequences=True))\n",
    "    model.add(Dropout(0.3))\n",
    "    model.add(LSTM(512, return_sequences=True))\n",
    "    model.add(Dropout(0.3))\n",
    "    model.add(LSTM(256))\n",
    "    model.add(Dense(256))\n",
    "    model.add(Dropout(0.3))\n",
    "    model.add(Dense(n_vocab))\n",
    "    model.add(Activation('softmax'))\n",
    "    model.compile(loss='categorical_crossentropy', optimizer='rmsprop')\n",
    "    return model "
   ]
  },
  {
   "cell_type": "code",
   "execution_count": 141,
   "id": "8ea449cf",
   "metadata": {},
   "outputs": [],
   "source": [
    "# model 2\n",
    "# model = Sequential()\n",
    "# model.add(LSTM(512, input_shape=(input.shape[1], input.shape[2]), recurrent_dropout=0.3, return_sequences=True))\n",
    "# model.add(LSTM(512, return_sequences=True, recurrent_dropout=0.3,))\n",
    "# model.add(LSTM(512))\n",
    "# model.add(BatchNorm())\n",
    "# model.add(Dropout(0.3))\n",
    "# model.add(Dense(256))\n",
    "# model.add(Activation('relu'))\n",
    "# model.add(BatchNorm())\n",
    "# model.add(Dropout(0.3))\n",
    "# model.add(Dense(n_vocab))\n",
    "# model.add(Activation('softmax'))\n",
    "# model.compile(loss='categorical_crossentropy', optimizer='rmsprop')\n"
   ]
  },
  {
   "cell_type": "code",
   "execution_count": 142,
   "id": "a5e73152",
   "metadata": {},
   "outputs": [],
   "source": [
    "# train the model based on the data, and output checkpoints that you can monitor and input to make predictions \n",
    "def train(model, input, output, epochs=50, batch_size=64):\n",
    "    fp = \"weight_checkpoints/music/weights-improvement-{epoch:02d}-{loss:.4f}.hdf5\"\n",
    "    checkpoint = ModelCheckpoint(fp, monitor='loss', verbose=0,save_best_only=True, mode='min')\n",
    "    callbacks_list = [checkpoint]\n",
    "    model.fit(input, output, epochs=50, batch_size=64, callbacks=callbacks_list)"
   ]
  },
  {
   "cell_type": "code",
   "execution_count": 143,
   "id": "31714daa",
   "metadata": {},
   "outputs": [],
   "source": [
    "files = glob.glob(\"bass_mids/*.MID\")\n",
    "def train_rnn(files):\n",
    "    notes = file_to_note_str(files)\n",
    "    input, output, n_vocab = prep_sequences(notes, sequence_length)\n",
    "    model = create_model(input, n_vocab)\n",
    "    train(model, input, output)\n",
    "    "
   ]
  },
  {
   "cell_type": "code",
   "execution_count": 144,
   "id": "e3cb967d",
   "metadata": {},
   "outputs": [
    {
     "name": "stdout",
     "output_type": "stream",
     "text": [
      "pitchnames:\n",
      " ['0.4', '0.5', '7.0', 'A3', 'A4', 'B-3', 'B-4', 'B-5', 'B3', 'C#4', 'C4', 'C5', 'C6', 'D4', 'D5', 'D6', 'E-4', 'E-5', 'E5', 'F#4', 'F4', 'F5', 'G#4', 'G3', 'G4', 'G5']\n",
      "number of notes/chords\n",
      " 26\n",
      "Epoch 1/50\n",
      "WARNING:tensorflow:AutoGraph could not transform <function Model.make_train_function.<locals>.train_function at 0x175e7ab80> and will run it as-is.\n",
      "Please report this to the TensorFlow team. When filing the bug, set the verbosity to 10 (on Linux, `export AUTOGRAPH_VERBOSITY=10`) and attach the full output.\n",
      "Cause: unsupported operand type(s) for -: 'NoneType' and 'int'\n",
      "To silence this warning, decorate the function with @tf.autograph.experimental.do_not_convert\n",
      "WARNING: AutoGraph could not transform <function Model.make_train_function.<locals>.train_function at 0x175e7ab80> and will run it as-is.\n",
      "Please report this to the TensorFlow team. When filing the bug, set the verbosity to 10 (on Linux, `export AUTOGRAPH_VERBOSITY=10`) and attach the full output.\n",
      "Cause: unsupported operand type(s) for -: 'NoneType' and 'int'\n",
      "To silence this warning, decorate the function with @tf.autograph.experimental.do_not_convert\n",
      "56/56 [==============================] - 7s 127ms/step - loss: 3.2674\n",
      "Epoch 2/50\n",
      "56/56 [==============================] - 7s 128ms/step - loss: 2.9956\n",
      "Epoch 3/50\n",
      "56/56 [==============================] - 7s 129ms/step - loss: 2.9843\n",
      "Epoch 4/50\n",
      "56/56 [==============================] - 7s 126ms/step - loss: 2.8606\n",
      "Epoch 5/50\n",
      "56/56 [==============================] - 7s 126ms/step - loss: 2.6736\n",
      "Epoch 6/50\n",
      "56/56 [==============================] - 7s 126ms/step - loss: 2.5622\n",
      "Epoch 7/50\n",
      "56/56 [==============================] - 7s 126ms/step - loss: 2.5505\n",
      "Epoch 8/50\n",
      "56/56 [==============================] - 7s 126ms/step - loss: 2.4795\n",
      "Epoch 9/50\n",
      "56/56 [==============================] - 7s 126ms/step - loss: 2.4123\n",
      "Epoch 10/50\n",
      "56/56 [==============================] - 7s 126ms/step - loss: 2.4259\n",
      "Epoch 11/50\n",
      "56/56 [==============================] - 7s 126ms/step - loss: 2.4365\n",
      "Epoch 12/50\n",
      "56/56 [==============================] - 7s 126ms/step - loss: 2.3451\n",
      "Epoch 13/50\n",
      "56/56 [==============================] - 7s 126ms/step - loss: 2.3558\n",
      "Epoch 14/50\n",
      "56/56 [==============================] - 7s 126ms/step - loss: 2.3174\n",
      "Epoch 15/50\n",
      "56/56 [==============================] - 7s 127ms/step - loss: 2.1425\n",
      "Epoch 16/50\n",
      "56/56 [==============================] - 7s 126ms/step - loss: 2.2219\n",
      "Epoch 17/50\n",
      "56/56 [==============================] - 7s 126ms/step - loss: 1.9258\n",
      "Epoch 18/50\n",
      "56/56 [==============================] - 7s 127ms/step - loss: 1.7677\n",
      "Epoch 19/50\n",
      "56/56 [==============================] - 7s 127ms/step - loss: 1.7328\n",
      "Epoch 20/50\n",
      "56/56 [==============================] - 7s 127ms/step - loss: 1.5691\n",
      "Epoch 21/50\n",
      "56/56 [==============================] - 7s 126ms/step - loss: 1.4005\n",
      "Epoch 22/50\n",
      "56/56 [==============================] - 7s 126ms/step - loss: 1.2722\n",
      "Epoch 23/50\n",
      "56/56 [==============================] - 7s 126ms/step - loss: 1.1209\n",
      "Epoch 24/50\n",
      "56/56 [==============================] - 7s 126ms/step - loss: 1.1339\n",
      "Epoch 25/50\n",
      "56/56 [==============================] - 7s 127ms/step - loss: 1.0719\n",
      "Epoch 26/50\n",
      "56/56 [==============================] - 7s 126ms/step - loss: 0.9612\n",
      "Epoch 27/50\n",
      "56/56 [==============================] - 7s 130ms/step - loss: 0.9436\n",
      "Epoch 28/50\n",
      "56/56 [==============================] - 7s 128ms/step - loss: 0.9212\n",
      "Epoch 29/50\n",
      "56/56 [==============================] - 7s 130ms/step - loss: 0.8591\n",
      "Epoch 30/50\n",
      "56/56 [==============================] - 7s 128ms/step - loss: 0.9485\n",
      "Epoch 31/50\n",
      "56/56 [==============================] - 7s 130ms/step - loss: 0.9199\n",
      "Epoch 32/50\n",
      "56/56 [==============================] - 7s 131ms/step - loss: 0.7559\n",
      "Epoch 33/50\n",
      "56/56 [==============================] - 7s 130ms/step - loss: 0.7060\n",
      "Epoch 34/50\n",
      "56/56 [==============================] - 7s 129ms/step - loss: 0.6952\n",
      "Epoch 35/50\n",
      "56/56 [==============================] - 7s 127ms/step - loss: 0.7430\n",
      "Epoch 36/50\n",
      "56/56 [==============================] - 7s 132ms/step - loss: 0.6298\n",
      "Epoch 37/50\n",
      "56/56 [==============================] - 7s 127ms/step - loss: 0.6239\n",
      "Epoch 38/50\n",
      "56/56 [==============================] - 7s 129ms/step - loss: 0.6239\n",
      "Epoch 39/50\n",
      "56/56 [==============================] - 7s 130ms/step - loss: 0.6172\n",
      "Epoch 40/50\n",
      "56/56 [==============================] - 7s 128ms/step - loss: 0.6142\n",
      "Epoch 41/50\n",
      "56/56 [==============================] - 7s 127ms/step - loss: 0.5467\n",
      "Epoch 42/50\n",
      "56/56 [==============================] - 7s 130ms/step - loss: 0.6205\n",
      "Epoch 43/50\n",
      "56/56 [==============================] - 7s 128ms/step - loss: 0.5106\n",
      "Epoch 44/50\n",
      "56/56 [==============================] - 7s 127ms/step - loss: 0.5394\n",
      "Epoch 45/50\n",
      "56/56 [==============================] - 7s 127ms/step - loss: 0.5346\n",
      "Epoch 46/50\n",
      "56/56 [==============================] - 7s 127ms/step - loss: 0.4996\n",
      "Epoch 47/50\n",
      "56/56 [==============================] - 7s 127ms/step - loss: 0.4735\n",
      "Epoch 48/50\n",
      "56/56 [==============================] - 7s 128ms/step - loss: 0.4641\n",
      "Epoch 49/50\n",
      "56/56 [==============================] - 7s 127ms/step - loss: 0.4445\n",
      "Epoch 50/50\n",
      "56/56 [==============================] - 7s 128ms/step - loss: 0.5067\n"
     ]
    }
   ],
   "source": [
    "train_rnn(files)"
   ]
  },
  {
   "cell_type": "code",
   "execution_count": 54,
   "id": "f82b1e9b",
   "metadata": {},
   "outputs": [],
   "source": [
    "def create_pred_model():\n",
    "    model = Sequential()\n",
    "    model.add(LSTM(256, input_shape=(input.shape[1], input.shape[2]), return_sequences=True))\n",
    "    model.add(Dropout(0.3))\n",
    "    model.add(LSTM(512, return_sequences=True))\n",
    "    model.add(Dropout(0.3))\n",
    "    model.add(LSTM(256))\n",
    "    model.add(Dense(256))\n",
    "    model.add(Dropout(0.3))\n",
    "    model.add(Dense(n_vocab))\n",
    "    model.add(Activation('softmax'))\n",
    "    model.load_weights(\"weight_checkpoints/music/weights-improvement-56-0.1349-bigger.hdf5\")\n",
    "    return model"
   ]
  },
  {
   "cell_type": "code",
   "execution_count": null,
   "id": "4a840a12",
   "metadata": {},
   "outputs": [],
   "source": [
    "# model 2 \n",
    "# model = Sequential()\n",
    "# model.add(LSTM(512, input_shape=(input.shape[1], input.shape[2]), recurrent_dropout=0.3, return_sequences=True))\n",
    "# model.add(LSTM(512, return_sequences=True, recurrent_dropout=0.3,))\n",
    "# model.add(LSTM(512))\n",
    "# model.add(BatchNorm())\n",
    "# model.add(Dropout(0.3))\n",
    "# model.add(Dense(256))\n",
    "# model.add(Activation('relu'))\n",
    "# model.add(BatchNorm())\n",
    "# model.add(Dropout(0.3))\n",
    "# model.add(Dense(n_vocab))\n",
    "# model.add(Activation('softmax'))\n",
    "# model.load_weights(\"weight_checkpoints/music/weights-improvement-56-0.1349-bigger.hdf5\")"
   ]
  },
  {
   "cell_type": "code",
   "execution_count": 56,
   "id": "af46f4da",
   "metadata": {},
   "outputs": [
    {
     "name": "stdout",
     "output_type": "stream",
     "text": [
      "WARNING:tensorflow:AutoGraph could not transform <function Model.make_predict_function.<locals>.predict_function at 0x16d938f70> and will run it as-is.\n",
      "Please report this to the TensorFlow team. When filing the bug, set the verbosity to 10 (on Linux, `export AUTOGRAPH_VERBOSITY=10`) and attach the full output.\n",
      "Cause: unsupported operand type(s) for -: 'NoneType' and 'int'\n",
      "To silence this warning, decorate the function with @tf.autograph.experimental.do_not_convert\n",
      "WARNING: AutoGraph could not transform <function Model.make_predict_function.<locals>.predict_function at 0x16d938f70> and will run it as-is.\n",
      "Please report this to the TensorFlow team. When filing the bug, set the verbosity to 10 (on Linux, `export AUTOGRAPH_VERBOSITY=10`) and attach the full output.\n",
      "Cause: unsupported operand type(s) for -: 'NoneType' and 'int'\n",
      "To silence this warning, decorate the function with @tf.autograph.experimental.do_not_convert\n"
     ]
    }
   ],
   "source": [
    "def generate_notes(input, model, n_vocab, pitchnames):\n",
    "    start = np.random.randint(0, len(input) -1)\n",
    "    int_to_note = dict((number, note) for number, note in enumerate(pitchnames))\n",
    "    pattern = input[start]\n",
    "    pred_output = []\n",
    "    for note_index in range(500):\n",
    "        # make it 1,50,1 instead of 50,1\n",
    "        pred_input = np.reshape(pattern, (1,len(pattern), 1))\n",
    "        # normalize input\n",
    "        pred_input = pred_input / float(n_vocab)\n",
    "        # predict w/ model\n",
    "        pred = model.predict(pred_input, verbose=0)\n",
    "        # get the most likely index of the next note\n",
    "        index = np.argmax(pred)\n",
    "        # convert to note form \n",
    "        result = int_to_note[index]\n",
    "        # append the result to the output\n",
    "        pred_output.append(result)\n",
    "        pattern = np.append(pattern,index)\n",
    "        pattern = pattern[1:len(pattern)]\n",
    "        return pred_output"
   ]
  },
  {
   "cell_type": "code",
   "execution_count": 57,
   "id": "de8dcd41",
   "metadata": {},
   "outputs": [
    {
     "name": "stdout",
     "output_type": "stream",
     "text": [
      "['D5', 'D4', 'D4', 'A4', 'A4', 'A3', 'B-4', 'B-4', 'C#4', 'A3', 'A3', 'A3', 'C5', 'A3', 'D5', 'D4', 'D4', 'C#4', 'D5', 'D5', 'D5', 'D5', 'D5', 'D5', 'D5', 'D5', 'D5', 'D5', 'D5', 'G4', 'G4', 'A4', 'A4', 'A3', 'B-4', 'B-4', 'B-4', 'B-4', 'C5', 'C5', 'C5', 'A4', 'A4', 'A4', 'A4', 'A4', 'A4', 'A4', 'A4', 'A4', 'A4', 'A4', 'A4', 'A4', 'A4', 'A4', 'G4', 'G4', 'A4', 'A4', 'A4', 'B-4', 'B-4', 'B-4', 'B-4', 'C5', 'C5', 'C5', 'D5', 'D5', 'D5', 'D5', 'D5', 'D5', 'D5', 'D5', 'D5', 'D5', 'D5', 'D5', 'D5', 'D5', 'D5', 'D5', 'G4', 'G4', 'A4', 'A4', 'A4', 'B-4', 'B-4', 'B-4', 'B-4', 'C5', 'C5', 'C5', 'A4', 'A4', 'A4', 'A4', 'A4', 'A4', 'A4', 'A4', 'A4', 'A4', 'A4', 'A4', 'A4', 'A4', 'A4', 'A4', 'G4', 'G4', 'A4', 'A4', 'A4', 'B-4', 'B-4', 'B-4', 'B-4', 'C5', 'C5', 'C5', 'D5', 'D5', 'D5', 'D5', 'D5', 'D5', 'D5', 'D5', 'D5', 'D5', 'D5', 'D5', 'D5', 'D5', 'D5', 'D5', 'G4', 'G4', 'A4', 'A4', 'A4', 'B-4', 'B-4', 'B-4', 'B-4', 'C5', 'C5', 'C5', 'A4', 'A4', 'A4', 'A4', 'A4', 'A4', 'A4', 'A4', 'A4', 'A4', 'A4', 'A4', 'A4', 'A4', 'A4', 'A4', 'G4', 'G4', 'A4', 'A4', 'A4', 'B-4', 'B-4', 'B-4', 'B-4', 'C5', 'C5', 'C5', 'D5', 'D5', 'D5', 'D5', 'D5', 'D5', 'D5', 'D5', 'D5', 'D5', 'D5', 'D5', 'D5', 'D5', 'D5', 'D5', 'G4', 'G4', 'A4', 'A4', 'A4', 'B-4', 'B-4', 'B-4', 'B-4', 'C5', 'C5', 'C5', 'A4', 'A4', 'A4', 'A4', 'A4', 'A4', 'A4', 'A4', 'A4', 'A4', 'A4', 'A4', 'A4', 'A4', 'A4', 'A4', 'G4', 'G4', 'A4', 'A4', 'A4', 'B-4', 'B-4', 'B-4', 'B-4', 'C5', 'C5', 'C5', 'D5', 'D5', 'D5', 'D5', 'D5', 'D5', 'D5', 'D5', 'D5', 'D5', 'D5', 'D5', 'D5', 'D5', 'D5', 'D5', 'G4', 'G4', 'A4', 'A4', 'A4', 'B-4', 'B-4', 'B-4', 'B-4', 'C5', 'C5', 'C5', 'A4', 'A4', 'A4', 'A4', 'A4', 'A4', 'A4', 'A4', 'A4', 'A4', 'A4', 'A4', 'A4', 'A4', 'A4', 'A4', 'G4', 'G4', 'A4', 'A4', 'A4', 'B-4', 'B-4', 'B-4', 'B-4', 'C5', 'C5', 'C5', 'D5', 'D5', 'D5', 'D5', 'D5', 'D5', 'D5', 'D5', 'D5', 'D5', 'D5', 'D5', 'D5', 'D5', 'D5', 'D5', 'G4', 'G4', 'A4', 'A4', 'A4', 'B-4', 'B-4', 'B-4', 'B-4', 'C5', 'C5', 'C5', 'A4', 'A4', 'A4', 'A4', 'A4', 'A4', 'A4', 'A4', 'A4', 'A4', 'A4', 'A4', 'A4', 'A4', 'A4', 'A4', 'G4', 'G4', 'A4', 'A4', 'A4', 'B-4', 'B-4', 'B-4', 'B-4', 'C5', 'C5', 'C5', 'D5', 'D5', 'D5', 'D5', 'D5', 'D5', 'D5', 'D5', 'D5', 'D5', 'D5', 'D5', 'D5', 'D5', 'D5', 'D5', 'G4', 'G4', 'A4', 'A4', 'A4', 'B-4', 'B-4', 'B-4', 'B-4', 'C5', 'C5', 'C5', 'A4', 'A4', 'A4', 'A4', 'A4', 'A4', 'A4', 'A4', 'A4', 'A4', 'A4', 'A4', 'A4', 'A4', 'A4', 'A4', 'G4', 'G4', 'A4', 'A4', 'A4', 'B-4', 'B-4', 'B-4', 'B-4', 'C5', 'C5', 'C5', 'D5', 'D5', 'D5', 'D5', 'D5', 'D5', 'D5', 'D5', 'D5', 'D5', 'D5', 'D5', 'D5', 'D5', 'D5', 'D5', 'G4', 'G4', 'A4', 'A4', 'A4', 'B-4', 'B-4', 'B-4', 'B-4', 'C5', 'C5', 'C5', 'A4', 'A4', 'A4', 'A4', 'A4', 'A4', 'A4', 'A4', 'A4', 'A4', 'A4', 'A4', 'A4', 'A4', 'A4', 'A4', 'G4', 'G4', 'A4', 'A4', 'A4', 'B-4', 'B-4', 'B-4', 'B-4', 'C5', 'C5', 'C5', 'D5', 'D5', 'D5', 'D5', 'D5', 'D5', 'D5', 'D5', 'D5', 'D5', 'D5', 'D5', 'D5', 'D5', 'D5', 'D5', 'G4', 'G4', 'A4', 'A4', 'A4', 'B-4', 'B-4', 'B-4', 'B-4', 'C5', 'C5', 'C5', 'A4', 'A4', 'A4', 'A4', 'A4', 'A4', 'A4', 'A4', 'A4', 'A4', 'A4', 'A4']\n"
     ]
    }
   ],
   "source": [
    "print(pred_output)"
   ]
  },
  {
   "cell_type": "code",
   "execution_count": 58,
   "id": "e26ce5f4",
   "metadata": {},
   "outputs": [],
   "source": [
    "# translate chords/notes\n",
    "offset = 0\n",
    "output_notes = []\n",
    "for pattern in pred_output:\n",
    "    # for chords\n",
    "    if ('.' in pattern) or pattern.isdigit():\n",
    "        chord_notes = pattern.split('.')\n",
    "        notes = []\n",
    "        for cur_note in chord_notes:\n",
    "            n_note = note.Note(int(current_note))\n",
    "            n_note.storeInstrument = instrument.Bass()\n",
    "            notes.append(n_note)\n",
    "        n_chord = chord.Chord(notes)\n",
    "        n_chord.offset = offset\n",
    "        output_notes.append(n_chord)\n",
    "    # for notes (mostly all w/ the bass)\n",
    "    else:\n",
    "        n_note = note.Note(pattern)\n",
    "        n_note.offset = offset\n",
    "        n_note.storedInstrument = instrument.Bass()\n",
    "        output_notes.append(n_note)\n",
    "    # increase offset \n",
    "    offset+=0.5\n",
    "        "
   ]
  },
  {
   "cell_type": "code",
   "execution_count": 59,
   "id": "e69cf9b3",
   "metadata": {},
   "outputs": [
    {
     "data": {
      "text/plain": [
       "'output/test_out2.mid'"
      ]
     },
     "execution_count": 59,
     "metadata": {},
     "output_type": "execute_result"
    }
   ],
   "source": [
    "midi_stream = stream.Stream(output_notes)\n",
    "midi_stream.write('midi', fp='output/test_out2.mid')"
   ]
  },
  {
   "cell_type": "code",
   "execution_count": null,
   "id": "1b808b8d",
   "metadata": {},
   "outputs": [],
   "source": []
  },
  {
   "cell_type": "code",
   "execution_count": null,
   "id": "6d1ac883",
   "metadata": {},
   "outputs": [],
   "source": []
  },
  {
   "cell_type": "code",
   "execution_count": null,
   "id": "96a3bbc1",
   "metadata": {},
   "outputs": [],
   "source": []
  },
  {
   "cell_type": "code",
   "execution_count": null,
   "id": "2c86a28d",
   "metadata": {},
   "outputs": [],
   "source": []
  },
  {
   "cell_type": "code",
   "execution_count": null,
   "id": "7f5aafca",
   "metadata": {},
   "outputs": [],
   "source": []
  },
  {
   "cell_type": "code",
   "execution_count": null,
   "id": "88ae9258",
   "metadata": {},
   "outputs": [],
   "source": []
  },
  {
   "cell_type": "code",
   "execution_count": null,
   "id": "ec590e9c",
   "metadata": {},
   "outputs": [],
   "source": []
  },
  {
   "cell_type": "code",
   "execution_count": null,
   "id": "f5ab8acf",
   "metadata": {},
   "outputs": [],
   "source": []
  }
 ],
 "metadata": {
  "kernelspec": {
   "display_name": "Python 3 (ipykernel)",
   "language": "python",
   "name": "python3"
  },
  "language_info": {
   "codemirror_mode": {
    "name": "ipython",
    "version": 3
   },
   "file_extension": ".py",
   "mimetype": "text/x-python",
   "name": "python",
   "nbconvert_exporter": "python",
   "pygments_lexer": "ipython3",
   "version": "3.8.10"
  }
 },
 "nbformat": 4,
 "nbformat_minor": 5
}
